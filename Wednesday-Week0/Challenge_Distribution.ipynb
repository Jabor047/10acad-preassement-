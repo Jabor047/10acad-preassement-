{
 "cells": [
  {
   "cell_type": "markdown",
   "metadata": {},
   "source": [
    "## Challenge_Distribution\n",
    "\n",
    "In this challenge you consider the real estate data from the city of Ames, Iowa. The details of every real estate transaction in Ames is recorded by the City Assessor's office (https://www.openintro.org/stat/data/ames.csv).\n",
    "\n",
    "**Based on this data, perform the following tasks**:\n",
    "\n",
    "- Take a random sample of size 50 from <code>price</code>. Using this sample, what is your best point estimate of the population mean?\n",
    "\n",
    "\n",
    "- Since you have access to the population, simulate the sampling distribution for the average home price in Ames by taking 5000 samples from the population of size 50 and computing 5000 sample means. Store these means in a vector called <code>sample_means50</code>. Plot the data, then describe the shape of this sampling distribution. Based on this sampling distribution, what would you guess the mean home price of the population to be? Finally, calculate and report the population mean.\n",
    "\n",
    "\n",
    "- Change your sample size from 50 to 150, then compute the sampling distribution using the same method as above, and store these means in a new vector called <code>sample_means150</code>. Describe the shape of this sampling distribution, and compare it to the sampling distribution for a sample size of 50. Based on this sampling distribution, what would you guess to be the mean sale price of homes in Ames?\n",
    "\n",
    "\n",
    "- Of the sampling distributions from 2 and 3, which has a smaller spread? If we’re concerned with making estimates that are more often close to the true value, would we prefer a distribution with a large or small spread?\n"
   ]
  },
  {
   "cell_type": "markdown",
   "metadata": {},
   "source": []
  },
  {
   "cell_type": "code",
   "execution_count": 17,
   "metadata": {},
   "outputs": [
    {
     "name": "stdout",
     "output_type": "stream",
     "text": [
      "178467.68\n"
     ]
    }
   ],
   "source": [
    "import pandas as pd\n",
    "import numpy as np\n",
    "import seaborn as sns\n",
    "import matplotlib.pyplot as plt\n",
    "\n",
    "df = pd.read_csv('ames.csv')\n",
    "samp = df.sample(50)\n",
    "price = list(p for p in samp['SalePrice'])\n",
    "mean = np.array(price).mean()\n",
    "print(mean)"
   ]
  },
  {
   "cell_type": "code",
   "execution_count": 20,
   "metadata": {},
   "outputs": [
    {
     "data": {
      "text/plain": [
       "180796.0600682594"
      ]
     },
     "execution_count": 20,
     "metadata": {},
     "output_type": "execute_result"
    },
    {
     "data": {
      "image/png": "[encoded data removed]",
      "text/plain": [
       "<Figure size 432x288 with 1 Axes>"
      ]
     },
     "metadata": {
      "needs_background": "light"
     },
     "output_type": "display_data"
    }
   ],
   "source": [
    "\n",
    "sample_means50 = []\n",
    "for i in range(5000):\n",
    "    rand = np.random.randint(1, 50)\n",
    "    samp_samp = np.random.choice(price, rand)\n",
    "    samp_mean = samp_samp.mean()\n",
    "    sample_means50.append(round(samp_mean, 2))\n",
    "\n",
    "# plt.hist(sample_means50, bins=100)\n",
    "sns.distplot(sample_means150)\n",
    "\n",
    "sale_price = list(p for p in df['SalePrice'])\n",
    "over_mean = np.array(sale_price).mean()\n",
    "over_mean"
   ]
  },
  {
   "cell_type": "code",
   "execution_count": 21,
   "metadata": {},
   "outputs": [
    {
     "data": {
      "text/plain": [
       "<matplotlib.axes._subplots.AxesSubplot at 0x252080bfa20>"
      ]
     },
     "execution_count": 21,
     "metadata": {},
     "output_type": "execute_result"
    },
    {
     "data": {
      "image/png": "[encoded data removed]",
      "text/plain": [
       "<Figure size 432x288 with 1 Axes>"
      ]
     },
     "metadata": {
      "needs_background": "light"
     },
     "output_type": "display_data"
    }
   ],
   "source": [
    "samp1 = df.sample(150)\n",
    "price1 = list(p for p in samp['SalePrice'])\n",
    "sample_means150 = []\n",
    "for i in range(5000):\n",
    "    rand1 = np.random.randint(1, 150)\n",
    "    samp_samp1 = np.random.choice(price1, rand1)\n",
    "    samp_mean1 = samp_samp1.mean()\n",
    "    sample_means150.append(round(samp_mean1, 2))\n",
    "\n",
    "# plt.hist(sample_means150, bins=100)\n",
    "sns.distplot(sample_means150)\n",
    "\n"
   ]
  },
  {
   "cell_type": "code",
   "execution_count": 26,
   "metadata": {},
   "outputs": [
    {
     "data": {
      "text/plain": [
       "(array([1.000e+00, 0.000e+00, 1.000e+00, 0.000e+00, 0.000e+00, 3.000e+00,\n",
       "        1.000e+00, 3.000e+00, 0.000e+00, 6.000e+00, 4.000e+00, 3.000e+00,\n",
       "        1.100e+01, 1.500e+01, 1.700e+01, 2.000e+01, 3.500e+01, 7.300e+01,\n",
       "        1.450e+02, 2.370e+02, 5.300e+02, 8.560e+02, 1.107e+03, 8.460e+02,\n",
       "        5.400e+02, 2.450e+02, 1.090e+02, 6.900e+01, 3.200e+01, 2.200e+01,\n",
       "        1.700e+01, 1.600e+01, 1.100e+01, 5.000e+00, 3.000e+00, 2.000e+00,\n",
       "        1.000e+00, 2.000e+00, 3.000e+00, 2.000e+00, 2.000e+00, 1.000e+00,\n",
       "        0.000e+00, 1.000e+00, 2.000e+00, 0.000e+00, 0.000e+00, 0.000e+00,\n",
       "        0.000e+00, 1.000e+00]),\n",
       " array([ 84900.,  89050.,  93200.,  97350., 101500., 105650., 109800.,\n",
       "        113950., 118100., 122250., 126400., 130550., 134700., 138850.,\n",
       "        143000., 147150., 151300., 155450., 159600., 163750., 167900.,\n",
       "        172050., 176200., 180350., 184500., 188650., 192800., 196950.,\n",
       "        201100., 205250., 209400., 213550., 217700., 221850., 226000.,\n",
       "        230150., 234300., 238450., 242600., 246750., 250900., 255050.,\n",
       "        259200., 263350., 267500., 271650., 275800., 279950., 284100.,\n",
       "        288250., 292400.]),\n",
       " <a list of 50 Patch objects>)"
      ]
     },
     "execution_count": 26,
     "metadata": {},
     "output_type": "execute_result"
    },
    {
     "data": {
      "image/png": "[encoded data removed]",
      "text/plain": [
       "<Figure size 432x288 with 2 Axes>"
      ]
     },
     "metadata": {
      "needs_background": "light"
     },
     "output_type": "display_data"
    }
   ],
   "source": [
    "fig, axs = plt.subplots(1, 2, sharey=True, tight_layout=True)\n",
    "axs[0].hist(sample_means50, bins=50)\n",
    "axs[1].hist(sample_means150, bins=50)"
   ]
  },
  {
   "cell_type": "markdown",
   "metadata": {},
   "source": [
    "From the two histograms above, it’s clear that the sampling distribution looks more like a normal distributed bell curve as the sample size gets larger."
   ]
  },
  {
   "cell_type": "markdown",
   "metadata": {},
   "source": [
    "Of the sampling distribution from sample size of 150 has a smaller spread than the sample size of 50. If we’re concerned with making estimates that are more often close to the true value, we’d prefer a distribution with a small spread.\n"
   ]
  },
  {
   "cell_type": "code",
   "execution_count": null,
   "metadata": {},
   "outputs": [],
   "source": []
  }
 ],
 "metadata": {
  "kernelspec": {
   "display_name": "Python 3",
   "language": "python",
   "name": "python3"
  },
  "language_info": {
   "codemirror_mode": {
    "name": "ipython",
    "version": 3
   },
   "file_extension": ".py",
   "mimetype": "text/x-python",
   "name": "python",
   "nbconvert_exporter": "python",
   "pygments_lexer": "ipython3",
   "version": "3.6.8"
  }
 },
 "nbformat": 4,
 "nbformat_minor": 4
}
